{
  "cells": [
    {
      "cell_type": "markdown",
      "source": "# Problem 2 - Operational Space Control",
      "metadata": {
        "id": "I9jK3d19ig5y",
        "cell_id": "0f90754151de45aebd4176c9ba88ef42",
        "deepnote_cell_type": "markdown"
      },
      "block_group": "a969ac4293fd41e4a457f0c3fc11a123"
    },
    {
      "cell_type": "markdown",
      "source": "### Start Meshcat Visualizer\nOpen the visualizer by clicking on the url in the output of this cell.",
      "metadata": {
        "tags": [],
        "cell_id": "2d216b5a798a4f9d8929d4df08528352",
        "deepnote_cell_type": "markdown"
      },
      "block_group": "063bb6daf9074c44a51500ac1c74735a"
    },
    {
      "cell_type": "code",
      "source": "from pydrake.all import StartMeshcat\n\nmeshcat = StartMeshcat()",
      "metadata": {
        "tags": [],
        "source_hash": "3f44790f",
        "output_cleared": false,
        "execution_start": 1730664358309,
        "execution_millis": 1,
        "execution_context_id": "7bdb93dd-6318-4cd4-8c5f-4d5fa71558e5",
        "deepnote_to_be_reexecuted": false,
        "cell_id": "82e3cca726ef4b0a9bc7c6030f35fe9b",
        "deepnote_cell_type": "code"
      },
      "outputs": [],
      "outputs_reference": null,
      "execution_count": 4,
      "block_group": "53c7d1bd0c974923ace310a94b794e36",
      "content_dependencies": null
    },
    {
      "cell_type": "markdown",
      "source": "### Setup the simulation\n\nDrake simulations are built as block diagrams, similarly to Simulink or LabVIEW, except the blocks (systems) are defined programatically rather than graphically. \n\nThis cell creates a Drake Diagram, and adds the system blocks for the OSC, footstep planner, and a simulated planar walker. You can change the OSC gains and the desired walking speed, then run this cell to view the diagram it creates. The next cell runs the simulation, which you can view in meshcat.",
      "metadata": {
        "tags": [],
        "cell_id": "2ca2e51df5824da0801438f5e6b84656",
        "deepnote_cell_type": "markdown"
      },
      "block_group": "28cf905212c048aea936109ddc3a2ec2"
    },
    {
      "cell_type": "code",
      "source": "import pydot\nimport numpy as np\nfrom IPython.display import SVG, display\n\nfrom pydrake.all import Simulator, DiagramBuilder, AddMultibodyPlantSceneGraph,\\\n                        Parser, RigidTransform, MeshcatVisualizer, MeshcatVisualizerParams, \\\n                        ConstantVectorSource, ConstantValueSource, PiecewisePolynomial,\\\n                        AbstractValue, HalfSpace, CoulombFriction\nimport footstep_planner\nimport osc\nimport importlib\nimportlib.reload(osc)\nimportlib.reload(footstep_planner)\nfrom osc import OperationalSpaceWalkingController, OscGains\n\n# Build the block diagram for the simulation\nbuilder = DiagramBuilder()\n\n# Add a planar walker to the simulation\nplant, scene_graph = AddMultibodyPlantSceneGraph(builder, 0.0005)\nX_WG = HalfSpace.MakePose(np.array([0,0, 1]), np.zeros(3,))\nplant.RegisterCollisionGeometry(\n    plant.world_body(), \n    X_WG, HalfSpace(), \n    \"collision\", \n    CoulombFriction(1.0, 1.0)\n)\nparser = Parser(plant)\nparser.AddModels(\"planar_walker.urdf\")\nplant.WeldFrames(\n    plant.world_frame(),\n    plant.GetBodyByName(\"base\").body_frame(),\n    RigidTransform.Identity()\n)\nplant.Finalize()\n\n\n# Build the controller diagram\nKp = np.diag([100, 0, 100])\nKd = np.diag([10, 0, 10])\nW = np.diag([1, 0, 1])\n\nWcom = np.zeros((3,3))\nWcom[2,2] = 1\n\ngains = OscGains(\n        Kp, Kd, Wcom,\n        Kp, Kd, W,\n        np.eye(1), np.eye(1), np.eye(1),\n        0.00001\n    )\n\n\n# TODO: Adjust target walking speed here\nwalking_speed = 0.5 # walking speed in m/s\n\nosc = builder.AddSystem(OperationalSpaceWalkingController(gains))\nplanner = builder.AddSystem(footstep_planner.LipTrajPlanner())\nspeed_src = builder.AddSystem(ConstantVectorSource(np.array([walking_speed])))\nbase_traj_src = builder.AddSystem(\n    ConstantValueSource(AbstractValue.Make(PiecewisePolynomial(np.zeros(1,))))\n)\n\n# Wire planner inputs \nbuilder.Connect(plant.get_state_output_port(), \n                planner.get_state_input_port())\nbuilder.Connect(speed_src.get_output_port(), \n                planner.get_walking_speed_input_port())\n\n# Wire OSC inputs\nbuilder.Connect(plant.get_state_output_port(), \n                osc.get_state_input_port()) \nbuilder.Connect(planner.get_swing_foot_traj_output_port(), \n                osc.get_traj_input_port(\"swing_foot_traj\"))\nbuilder.Connect(planner.get_com_traj_output_port(), \n                osc.get_traj_input_port(\"com_traj\"))\nbuilder.Connect(base_traj_src.get_output_port(), \n                osc.get_traj_input_port(\"base_joint_traj\"))\n\n# Add the visualizer\nvis_params = MeshcatVisualizerParams(publish_period=0.01)\nMeshcatVisualizer.AddToBuilder(builder, scene_graph, meshcat, params=vis_params)\n\n# Wire OSC to plant\nbuilder.Connect(osc.get_output_port(), \n                plant.get_actuation_input_port())\n\n#simulate\ndiagram = builder.Build()\ndisplay(SVG(pydot.graph_from_dot_data(\n    diagram.GetGraphvizString(max_depth=2))[0].create_svg()))",
      "metadata": {
        "tags": [],
        "source_hash": "df805694",
        "output_cleared": false,
        "execution_start": 1730665549844,
        "execution_millis": 894,
        "execution_context_id": "7bdb93dd-6318-4cd4-8c5f-4d5fa71558e5",
        "deepnote_to_be_reexecuted": false,
        "cell_id": "2ab0c768424f43fd8c9b685e5f77df67",
        "deepnote_cell_type": "code"
      },
      "outputs": [],
      "outputs_reference": null,
      "execution_count": 30,
      "block_group": "03530bcbe90e499d87f12eb064702d5c",
      "content_dependencies": null
    },
    {
      "cell_type": "markdown",
      "source": "### Run the simulation\nAfter you have run the above block, you can actually run the simulation with this one.",
      "metadata": {
        "tags": [],
        "cell_id": "7aafef4039444a728f77939b5b895928",
        "deepnote_cell_type": "markdown"
      },
      "block_group": "7f833894477f4312baf04767fe4f5dc7"
    },
    {
      "cell_type": "code",
      "source": "# NOTE - if you make changes, you should re-run the cell above this one\n\nsim_time = 10.0\nsimulator = Simulator(diagram)\nsimulator.Initialize()\nsimulator.set_target_realtime_rate(1)\n\n# Set the robot state\nplant_context = diagram.GetMutableSubsystemContext(\n    plant, simulator.get_mutable_context())\nq = np.zeros((plant.num_positions(),))\nq[1] = 0.8\ntheta = -np.arccos(q[1])\nq[3] = theta\nq[4] = -2 * theta\nq[5] = theta\nq[6] = -2 * theta\nplant.SetPositions(plant_context, q)\n\n# import time\n\n# # Wait for 3 seconds\n# time.sleep(3)\n\n# Simulate the robot\nsimulator.AdvanceTo(sim_time)",
      "metadata": {
        "tags": [],
        "source_hash": "8d9b742e",
        "output_cleared": false,
        "execution_start": 1730665573615,
        "execution_millis": 76025,
        "execution_context_id": "7bdb93dd-6318-4cd4-8c5f-4d5fa71558e5",
        "deepnote_to_be_reexecuted": false,
        "cell_id": "f1b6708e9a1f49c8b7cc84066d303976",
        "deepnote_cell_type": "code"
      },
      "outputs": [],
      "outputs_reference": null,
      "execution_count": 31,
      "block_group": "16a0767124854895b42cb77f9d990fee",
      "content_dependencies": null
    },
    {
      "cell_type": "markdown",
      "source": "<a style='text-decoration:none;line-height:16px;display:flex;color:#5B5B62;padding:10px;justify-content:end;' href='https://deepnote.com?utm_source=created-in-deepnote-cell&projectId=bf126a1a-17a5-4fc1-b783-5036fc21f155' target=\"_blank\">\n<img alt='Created in deepnote.com' style='display:inline;max-height:16px;margin:0px;margin-right:7.5px;' src='data:image/svg+xml;base64,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' > </img>\nCreated in <span style='font-weight:600;margin-left:4px;'>Deepnote</span></a>",
      "metadata": {
        "created_in_deepnote_cell": true,
        "deepnote_cell_type": "markdown"
      }
    }
  ],
  "nbformat": 4,
  "nbformat_minor": 0,
  "metadata": {
    "deepnote_notebook_id": "2fcffb2e35664b3882daa5fdf6b694ff"
  }
}